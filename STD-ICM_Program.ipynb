{
 "cells": [
  {
   "cell_type": "code",
   "execution_count": 1,
   "id": "8df55403",
   "metadata": {},
   "outputs": [],
   "source": [
    "import numpy as np\n",
    "import networkx as nx\n",
    "import pandas as pd\n",
    "\n",
    "# Function to simulate one time step of ICM model\n",
    "def icm_step(graph, state, p):\n",
    "    new_infected = set()\n",
    "    for node in graph:\n",
    "        if state[node] == 'I':\n",
    "            for neighbor in graph.neighbors(node):\n",
    "                if state[neighbor] == 'S' and np.random.random() < p:\n",
    "                    new_infected.add(neighbor)\n",
    "    for node in new_infected:\n",
    "        state[node] = 'I'\n",
    "    return new_infected\n",
    "\n",
    "# Function to simulate ICM model for a specified number of time steps and simulations\n",
    "def icm_simulation(graph, seeds, p, num_steps, num_sims):\n",
    "    state = {node: 'S' for node in graph}\n",
    "    for seed in seeds:\n",
    "        state[seed] = 'I'\n",
    "    \n",
    "    cumulative_infected = []\n",
    "    for _ in range(num_sims):\n",
    "        state_copy = state.copy()\n",
    "        infected_counts = [len(seeds)]\n",
    "        for _ in range(num_steps):\n",
    "            newly_infected = icm_step(graph, state_copy, p)\n",
    "            infected_counts.append(len(newly_infected) + infected_counts[-1])\n",
    "        cumulative_infected.append(infected_counts[-1])\n",
    "    \n",
    "    return cumulative_infected\n",
    "\n",
    "# Load your network data and create a graph\n",
    "G = nx.read_edgelist(\"12-Node-Network.txt\", nodetype=int)\n",
    "\n",
    "# Define parameters\n",
    "seed_nodes = [1, 2, 3]  # Example seed nodes\n",
    "beta_values = [0.01, 0.02, 0.03]  # Example beta values\n",
    "num_time_steps = 40\n",
    "num_simulations = 100\n",
    "\n",
    "# Dictionary to store cumulative infected counts for each beta value\n",
    "results = {}\n",
    "\n",
    "# Perform simulations for each beta value\n",
    "for beta in beta_values:\n",
    "    cumulative_infected = icm_simulation(G, seed_nodes, beta, num_time_steps, num_simulations)\n",
    "    results[beta] = cumulative_infected\n",
    "\n",
    "# Convert results to DataFrame and save to Excel\n",
    "df = pd.DataFrame.from_dict(results)\n",
    "df.to_excel(\"ICM_cumulative_infected_results_ICM.xlsx\", index=False)\n"
   ]
  },
  {
   "cell_type": "code",
   "execution_count": null,
   "id": "f5e96418",
   "metadata": {},
   "outputs": [],
   "source": []
  }
 ],
 "metadata": {
  "kernelspec": {
   "display_name": "Python 3 (ipykernel)",
   "language": "python",
   "name": "python3"
  },
  "language_info": {
   "codemirror_mode": {
    "name": "ipython",
    "version": 3
   },
   "file_extension": ".py",
   "mimetype": "text/x-python",
   "name": "python",
   "nbconvert_exporter": "python",
   "pygments_lexer": "ipython3",
   "version": "3.9.7"
  }
 },
 "nbformat": 4,
 "nbformat_minor": 5
}
